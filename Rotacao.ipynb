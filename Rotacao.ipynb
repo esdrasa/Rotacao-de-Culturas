{
 "cells": [
  {
   "cell_type": "code",
   "execution_count": 26,
   "metadata": {},
   "outputs": [],
   "source": [
    "import numpy as np\n",
    "from itertools import permutations\n",
    "from random import *\n",
    "import math"
   ]
  },
  {
   "cell_type": "code",
   "execution_count": 27,
   "metadata": {},
   "outputs": [
    {
     "name": "stdout",
     "output_type": "stream",
     "text": [
      "Lotes L = 5\n",
      "Periodos M = 10\n",
      "Tipos de plantas diferentes = 6\n",
      "Fatorial =  720\n",
      "Permutações de Culturas Li =  [[1 2 3 4 5 6]\n",
      " [1 2 3 4 6 5]\n",
      " [1 2 3 5 4 6]\n",
      " ...\n",
      " [6 5 4 2 3 1]\n",
      " [6 5 4 3 1 2]\n",
      " [6 5 4 3 2 1]]\n"
     ]
    }
   ],
   "source": [
    "L = 5 #Numero máximo de lotes\n",
    "print(\"Lotes L =\", L)\n",
    "M = 10 #Numero de periodos\n",
    "print(\"Periodos M =\", M)\n",
    "Plantas = 6 #4 Culturas sendo plantadas\n",
    "print(\"Tipos de plantas diferentes =\", Plantas)\n",
    "l = np.array(list(permutations(range(1,Plantas+1))))\n",
    "fat= math.factorial(Plantas) \n",
    "print(\"Fatorial = \", fat)\n",
    "print(\"Permutações de Culturas Li = \", l)"
   ]
  },
  {
   "cell_type": "code",
   "execution_count": 28,
   "metadata": {},
   "outputs": [],
   "source": [
    "#Tempo de Plantio:\n",
    "t1=t2=t3=2 #feijão(Leguminosa), Alface, Brócolis\n",
    "t4=t5=t6=4 #Espinafre"
   ]
  },
  {
   "cell_type": "code",
   "execution_count": 29,
   "metadata": {},
   "outputs": [],
   "source": [
    "sorteio = randint(0, fat-1)"
   ]
  },
  {
   "cell_type": "code",
   "execution_count": 37,
   "metadata": {},
   "outputs": [
    {
     "name": "stdout",
     "output_type": "stream",
     "text": [
      "208\n",
      "[2 5 4 6 1 3]\n"
     ]
    }
   ],
   "source": [
    "print(sorteio)\n",
    "print(l[sorteio,...])  #Vetor sorteado entre as permutacoes"
   ]
  },
  {
   "cell_type": "code",
   "execution_count": 38,
   "metadata": {},
   "outputs": [
    {
     "name": "stdout",
     "output_type": "stream",
     "text": [
      "[[0. 0. 0. 0. 0. 0. 0. 0. 0. 0.]\n",
      " [0. 0. 0. 0. 0. 0. 0. 0. 0. 0.]\n",
      " [0. 0. 0. 0. 0. 0. 0. 0. 0. 0.]\n",
      " [0. 0. 0. 0. 0. 0. 0. 0. 0. 0.]\n",
      " [0. 0. 0. 0. 0. 0. 0. 0. 0. 0.]]\n"
     ]
    }
   ],
   "source": [
    "Cult = np.zeros((L, M))\n",
    "print(Cult)\n",
    "j=0\n",
    "z=0"
   ]
  },
  {
   "cell_type": "code",
   "execution_count": 40,
   "metadata": {},
   "outputs": [
    {
     "name": "stdout",
     "output_type": "stream",
     "text": [
      "Vetor inicialmente sorteado: [6 2 4 3 5 1]\n",
      "Vetor sorteado novamente:  [5 1 3 6 4 2]\n",
      "Vetor sorteado novamente:  [5 6 1 2 4 3]\n",
      "Vetor sorteado novamente:  [5 3 6 1 4 2]\n",
      "[[6. 6. 6. 6. 2. 2. 4. 2. 2. 2.]\n",
      " [4. 4. 4. 4. 3. 3. 5. 5. 5. 5.]\n",
      " [1. 1. 6. 1. 1. 1. 4. 4. 4. 4.]\n",
      " [5. 5. 5. 5. 1. 1. 3. 3. 6. 6.]\n",
      " [5. 5. 5. 5. 6. 6. 6. 6. 1. 1.]]\n"
     ]
    }
   ],
   "source": [
    "print(\"Vetor inicialmente sorteado:\", l[sorteio,...])    \n",
    "for k in range(L): #Laço for no número de Lotes(de 0 a 4)\n",
    "    try: #Tenta o vetor sorteado, se der erro por causa do periodo de tempo, tenta outro\n",
    "        while(j<M): #enquanto T nao eh 10\n",
    "            Cult[k,j] = l[sorteio,z] #linha 0 coluna 0 eh o 0,0 do vetor sorteado\n",
    "            if (Cult[k,j] == 1) or (Cult[k,j] == 2) or (Cult[k,j] == 3): #Se a planta for T= 2, Plantar em 2 periodos de tempo \n",
    "                j=j+1;\n",
    "                Cult[k,j] = l[sorteio,z]\n",
    "                j=j+1; #andar com o tempo pra proxima iteracao\n",
    "            if (Cult[k,j] == 4) or (Cult[k,j] == 5) or (Cult[k,j] == 6): #T=4 VEZES\n",
    "                j=j+1;\n",
    "                Cult[k,j] = l[sorteio,z]\n",
    "                j=j+1;\n",
    "                Cult[k,j] = l[sorteio,z]\n",
    "                j=j+1;\n",
    "                Cult[k,j] = l[sorteio,z]\n",
    "                j=j+1;\n",
    "            z=z+1 #andar no vetor sorteado\n",
    "        j=0; #Quando acaba de preencher todo o tempo, volta pro for k=1 e a coluna tem q voltar pro zero novamente\n",
    "    except: #se o vetor nao coube, deu erro por causa do tempo, sorteia outro vetor novamente\n",
    "        sorteio = randint(0, fat-1)\n",
    "        print(\"Vetor sorteado novamente: \", l[sorteio,...])\n",
    "        j=0;\n",
    "        z=0\n",
    "print(Cult)"
   ]
  },
  {
   "cell_type": "code",
   "execution_count": null,
   "metadata": {},
   "outputs": [],
   "source": [
    "\n"
   ]
  },
  {
   "cell_type": "code",
   "execution_count": null,
   "metadata": {},
   "outputs": [],
   "source": []
  },
  {
   "cell_type": "code",
   "execution_count": null,
   "metadata": {},
   "outputs": [],
   "source": []
  },
  {
   "cell_type": "code",
   "execution_count": null,
   "metadata": {},
   "outputs": [],
   "source": []
  },
  {
   "cell_type": "code",
   "execution_count": null,
   "metadata": {},
   "outputs": [],
   "source": []
  },
  {
   "cell_type": "code",
   "execution_count": null,
   "metadata": {},
   "outputs": [],
   "source": []
  }
 ],
 "metadata": {
  "kernelspec": {
   "display_name": "Python 3",
   "language": "python",
   "name": "python3"
  },
  "language_info": {
   "codemirror_mode": {
    "name": "ipython",
    "version": 3
   },
   "file_extension": ".py",
   "mimetype": "text/x-python",
   "name": "python",
   "nbconvert_exporter": "python",
   "pygments_lexer": "ipython3",
   "version": "3.7.3"
  }
 },
 "nbformat": 4,
 "nbformat_minor": 2
}
