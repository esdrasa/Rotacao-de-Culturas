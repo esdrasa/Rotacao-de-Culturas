{
 "cells": [
  {
   "cell_type": "code",
   "execution_count": 1,
   "metadata": {},
   "outputs": [],
   "source": [
    "import numpy as np\n",
    "from itertools import permutations\n",
    "from random import *\n",
    "import math"
   ]
  },
  {
   "cell_type": "code",
   "execution_count": 2,
   "metadata": {},
   "outputs": [
    {
     "name": "stdout",
     "output_type": "stream",
     "text": [
      "Lotes L = 5\n",
      "Periodos M = 10\n",
      "Tipos de plantas diferentes = 4\n",
      "Fatorial =  24\n",
      "Permutações de Culturas Li =  [[1 2 3 4]\n",
      " [1 2 4 3]\n",
      " [1 3 2 4]\n",
      " [1 3 4 2]\n",
      " [1 4 2 3]\n",
      " [1 4 3 2]\n",
      " [2 1 3 4]\n",
      " [2 1 4 3]\n",
      " [2 3 1 4]\n",
      " [2 3 4 1]\n",
      " [2 4 1 3]\n",
      " [2 4 3 1]\n",
      " [3 1 2 4]\n",
      " [3 1 4 2]\n",
      " [3 2 1 4]\n",
      " [3 2 4 1]\n",
      " [3 4 1 2]\n",
      " [3 4 2 1]\n",
      " [4 1 2 3]\n",
      " [4 1 3 2]\n",
      " [4 2 1 3]\n",
      " [4 2 3 1]\n",
      " [4 3 1 2]\n",
      " [4 3 2 1]]\n"
     ]
    }
   ],
   "source": [
    "L = 5 #Numero máximo de lotes\n",
    "print(\"Lotes L =\", L)\n",
    "M = 10 #Numero de periodos\n",
    "print(\"Periodos M =\", M)\n",
    "Plantas = 4 #4 Culturas sendo plantadas\n",
    "print(\"Tipos de plantas diferentes =\", Plantas)\n",
    "l = np.array(list(permutations(range(1,Plantas+1))))\n",
    "fat= math.factorial(Plantas) \n",
    "print(\"Fatorial = \", fat)\n",
    "print(\"Permutações de Culturas Li = \", l)"
   ]
  },
  {
   "cell_type": "code",
   "execution_count": 3,
   "metadata": {},
   "outputs": [],
   "source": [
    "#Tempo de Plantio:\n",
    "t1=t2=t3=2 #feijão(Leguminosa), Alface, Brócolis\n",
    "t4=4 #Espinafre\n",
    "t5=3 #Pepino\n",
    "t6=1 #Alho"
   ]
  },
  {
   "cell_type": "code",
   "execution_count": 4,
   "metadata": {},
   "outputs": [
    {
     "name": "stdout",
     "output_type": "stream",
     "text": [
      "[1 2 3 4]\n",
      "[1 2 3 4]\n",
      "[1 2 3 4]\n",
      "[1 2 3 4]\n",
      "[1 2 3 4]\n"
     ]
    }
   ],
   "source": [
    "for k in range(L): #Laço for no número de Lotes\n",
    "    print(l[0,...])"
   ]
  },
  {
   "cell_type": "code",
   "execution_count": 5,
   "metadata": {},
   "outputs": [],
   "source": [
    "sorteio = randint(0, fat-1)"
   ]
  },
  {
   "cell_type": "code",
   "execution_count": 6,
   "metadata": {},
   "outputs": [
    {
     "name": "stdout",
     "output_type": "stream",
     "text": [
      "19\n"
     ]
    }
   ],
   "source": [
    "print(sorteio)"
   ]
  },
  {
   "cell_type": "code",
   "execution_count": 7,
   "metadata": {},
   "outputs": [
    {
     "name": "stdout",
     "output_type": "stream",
     "text": [
      "[3 1 2 4]\n",
      "[3 2 1 4]\n",
      "[4 3 2 1]\n",
      "[2 4 3 1]\n",
      "[4 1 3 2]\n"
     ]
    }
   ],
   "source": [
    "for k in range(L): #Laço for no número de Lotes\n",
    "    sorteio = randint(0, fat-1) #Sorteia um numero aleatorio\n",
    "    Cult = (l[sorteio,...])\n",
    "    print(Cult)"
   ]
  },
  {
   "cell_type": "code",
   "execution_count": null,
   "metadata": {},
   "outputs": [],
   "source": []
  }
 ],
 "metadata": {
  "kernelspec": {
   "display_name": "Python 3",
   "language": "python",
   "name": "python3"
  },
  "language_info": {
   "codemirror_mode": {
    "name": "ipython",
    "version": 3
   },
   "file_extension": ".py",
   "mimetype": "text/x-python",
   "name": "python",
   "nbconvert_exporter": "python",
   "pygments_lexer": "ipython3",
   "version": "3.7.3"
  }
 },
 "nbformat": 4,
 "nbformat_minor": 2
}
